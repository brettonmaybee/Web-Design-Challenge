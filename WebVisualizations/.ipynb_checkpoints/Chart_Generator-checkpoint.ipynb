{
 "cells": [
  {
   "cell_type": "code",
   "execution_count": null,
   "metadata": {},
   "outputs": [],
   "source": [
    "import pandas as pd\n",
    "import numpy as np\n",
    "import matplotlib.pyplot as plt\n",
    "import scipy.stats as st\n",
    "import datetime\n",
    "from scipy.stats import linregress"
   ]
  },
  {
   "cell_type": "code",
   "execution_count": null,
   "metadata": {},
   "outputs": [],
   "source": [
    "df = pd.read_csv (r'resources\\assets\\2019Data.csv')\n",
    "print (df)"
   ]
  },
  {
   "cell_type": "code",
   "execution_count": null,
   "metadata": {},
   "outputs": [],
   "source": [
    "# Generate scatter plot\n",
    "plt.scatter(df[\"Income_per_Person\"], df[\"co2_per_Person\"])\n",
    "plt.title(f\"Income vs. Co2 Consumption per Person 2019\")\n",
    "plt.xlabel(\"Annual Income in Dollars per Person\")\n",
    "plt.ylabel(\"co2 Consumption\")\n",
    "plt.savefig('visualizations\\income_vs_co2.png')\n",
    "plt.show()"
   ]
  },
  {
   "cell_type": "code",
   "execution_count": null,
   "metadata": {},
   "outputs": [],
   "source": [
    "# Generate scatter plot\n",
    "plt.scatter(df[\"Income_per_Person\"], df[\"Children_per_Woman\"])\n",
    "plt.title(f\"Income vs. Children_per_Woman\")\n",
    "plt.xlabel(\"Annual Income in Dollars per Person\")\n",
    "plt.ylabel(\"Average Children Per Woman\")\n",
    "plt.savefig('visualizations\\income_vs_child.png')\n",
    "plt.show()"
   ]
  },
  {
   "cell_type": "code",
   "execution_count": null,
   "metadata": {},
   "outputs": [],
   "source": [
    "# Generate scatter plot\n",
    "plt.scatter(df[\"Income_per_Person\"], df[\"Life_Expectancy\"])\n",
    "plt.title(f\"Income vs. Life_Expectancy\")\n",
    "plt.xlabel(\"Annual Income in Dollars per Person\")\n",
    "plt.ylabel(\"Life Expectancy in Years\")\n",
    "plt.savefig('visualizations\\income_vs_life.png')\n",
    "plt.show()"
   ]
  },
  {
   "cell_type": "code",
   "execution_count": null,
   "metadata": {},
   "outputs": [],
   "source": [
    "# Generate scatter plot\n",
    "plt.scatter(df[\"Income_per_Person\"], df[\"Child_Mortality\"])\n",
    "plt.title(f\"Income vs. Child Mortality\")\n",
    "plt.xlabel(\"Annual Income in Dollars per Person\")\n",
    "plt.ylabel(\"Child Mortality for 0-5 years per 1000 Births\")\n",
    "plt.savefig('visualizations\\income_vs_Child_Mortality.png')\n",
    "plt.show()"
   ]
  },
  {
   "cell_type": "code",
   "execution_count": null,
   "metadata": {},
   "outputs": [],
   "source": []
  }
 ],
 "metadata": {
  "kernelspec": {
   "display_name": "Python 3",
   "language": "python",
   "name": "python3"
  },
  "language_info": {
   "codemirror_mode": {
    "name": "ipython",
    "version": 3
   },
   "file_extension": ".py",
   "mimetype": "text/x-python",
   "name": "python",
   "nbconvert_exporter": "python",
   "pygments_lexer": "ipython3",
   "version": "3.8.3"
  }
 },
 "nbformat": 4,
 "nbformat_minor": 4
}
